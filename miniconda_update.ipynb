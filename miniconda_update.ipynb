{
 "cells": [
  {
   "cell_type": "markdown",
   "metadata": {},
   "source": [
    "this is a date operate exercise,the table is a release update of miniconda from a mirror.usually win and linux date is ture in the mirror,but moc os maybe wrong,so we want a sequential date to see how long time miniconda update.at first is some exercise of date operate basic. if want to see the function part go down directly."
   ]
  },
  {
   "cell_type": "code",
   "execution_count": 50,
   "metadata": {},
   "outputs": [
    {
     "data": {
      "text/plain": [
       "11:17:23.344"
      ]
     },
     "execution_count": 50,
     "metadata": {},
     "output_type": "execute_result"
    }
   ],
   "source": [
    "using Dates\n",
    "rightnow = Dates.Time(Dates.now())"
   ]
  },
  {
   "cell_type": "code",
   "execution_count": 2,
   "metadata": {},
   "outputs": [
    {
     "data": {
      "text/plain": [
       "1918-11-11T11:11:11"
      ]
     },
     "execution_count": 2,
     "metadata": {},
     "output_type": "execute_result"
    }
   ],
   "source": [
    "armistice = Dates.DateTime(1918,11,11,11,11,11)"
   ]
  },
  {
   "cell_type": "code",
   "execution_count": 3,
   "metadata": {},
   "outputs": [
    {
     "data": {
      "text/plain": [
       "2018-09-01"
      ]
     },
     "execution_count": 3,
     "metadata": {},
     "output_type": "execute_result"
    }
   ],
   "source": [
    "datetoday = Dates.today()"
   ]
  },
  {
   "cell_type": "code",
   "execution_count": 4,
   "metadata": {},
   "outputs": [
    {
     "data": {
      "text/plain": [
       "2018-09-01T23:17:46.965"
      ]
     },
     "execution_count": 4,
     "metadata": {},
     "output_type": "execute_result"
    }
   ],
   "source": [
    "datetimenow = Dates.now()"
   ]
  },
  {
   "cell_type": "code",
   "execution_count": 5,
   "metadata": {},
   "outputs": [
    {
     "data": {
      "text/plain": [
       "2018-09-01T15:18:17.213"
      ]
     },
     "execution_count": 5,
     "metadata": {},
     "output_type": "execute_result"
    }
   ],
   "source": [
    "Dates.now(Dates.UTC)"
   ]
  },
  {
   "cell_type": "code",
   "execution_count": 6,
   "metadata": {},
   "outputs": [
    {
     "data": {
      "text/plain": [
       "\"Tue, 28 Jul 2015 11:43:14\""
      ]
     },
     "execution_count": 6,
     "metadata": {},
     "output_type": "execute_result"
    }
   ],
   "source": [
    "formatted_date = \"Tue, 28 Jul 2015 11:43:14\""
   ]
  },
  {
   "cell_type": "code",
   "execution_count": 7,
   "metadata": {},
   "outputs": [
    {
     "data": {
      "text/plain": [
       "2015-07-28T11:43:14"
      ]
     },
     "execution_count": 7,
     "metadata": {},
     "output_type": "execute_result"
    }
   ],
   "source": [
    "temp = Dates.DateTime(formatted_date, \"e, dd u yyyy HH:MM:SS\")"
   ]
  },
  {
   "cell_type": "code",
   "execution_count": 8,
   "metadata": {},
   "outputs": [
    {
     "data": {
      "text/plain": [
       "\"2013/10/30  11:52:00\""
      ]
     },
     "execution_count": 8,
     "metadata": {},
     "output_type": "execute_result"
    }
   ],
   "source": [
    "formatted_date1=\"2013/10/30  11:52:00\""
   ]
  },
  {
   "cell_type": "code",
   "execution_count": 12,
   "metadata": {},
   "outputs": [
    {
     "data": {
      "text/plain": [
       "2013-10-30T11:52:00"
      ]
     },
     "execution_count": 12,
     "metadata": {},
     "output_type": "execute_result"
    }
   ],
   "source": [
    "d = Dates.DateTime(formatted_date1, \"yyyy/mm/dd  HH:MM:SS\")"
   ]
  },
  {
   "cell_type": "code",
   "execution_count": 14,
   "metadata": {},
   "outputs": [
    {
     "ename": "LoadError",
     "evalue": "type DateTime has no field Date",
     "output_type": "error",
     "traceback": [
      "type DateTime has no field Date",
      "",
      "Stacktrace:",
      " [1] getproperty(::Any, ::Symbol) at .\\sysimg.jl:18",
      " [2] top-level scope at none:0"
     ]
    }
   ],
   "source": [
    "d.Date"
   ]
  },
  {
   "cell_type": "code",
   "execution_count": 17,
   "metadata": {},
   "outputs": [
    {
     "data": {
      "text/plain": [
       "2013-10-30"
      ]
     },
     "execution_count": 17,
     "metadata": {},
     "output_type": "execute_result"
    }
   ],
   "source": [
    "a=Date(d)"
   ]
  },
  {
   "cell_type": "code",
   "execution_count": 18,
   "metadata": {},
   "outputs": [
    {
     "data": {
      "text/plain": [
       "Date"
      ]
     },
     "execution_count": 18,
     "metadata": {},
     "output_type": "execute_result"
    }
   ],
   "source": [
    "typeof(a)"
   ]
  },
  {
   "cell_type": "code",
   "execution_count": 19,
   "metadata": {},
   "outputs": [
    {
     "data": {
      "text/plain": [
       "2013-10-20T11:52:00"
      ]
     },
     "execution_count": 19,
     "metadata": {},
     "output_type": "execute_result"
    }
   ],
   "source": [
    "formatted_date2=\"2013/10/20  11:52:00\";\n",
    "d2 = Dates.DateTime(formatted_date2, \"yyyy/mm/dd  HH:MM:SS\")"
   ]
  },
  {
   "cell_type": "code",
   "execution_count": 20,
   "metadata": {},
   "outputs": [
    {
     "data": {
      "text/plain": [
       "2013-10-20"
      ]
     },
     "execution_count": 20,
     "metadata": {},
     "output_type": "execute_result"
    }
   ],
   "source": [
    "a2=Date(d2)"
   ]
  },
  {
   "cell_type": "code",
   "execution_count": 22,
   "metadata": {},
   "outputs": [
    {
     "data": {
      "text/plain": [
       "-10 days"
      ]
     },
     "execution_count": 22,
     "metadata": {},
     "output_type": "execute_result"
    }
   ],
   "source": [
    "a2-a"
   ]
  },
  {
   "cell_type": "code",
   "execution_count": 23,
   "metadata": {},
   "outputs": [
    {
     "data": {
      "text/plain": [
       "10 days"
      ]
     },
     "execution_count": 23,
     "metadata": {},
     "output_type": "execute_result"
    }
   ],
   "source": [
    "d=a-a2"
   ]
  },
  {
   "cell_type": "code",
   "execution_count": 24,
   "metadata": {},
   "outputs": [
    {
     "data": {
      "text/plain": [
       "1 day"
      ]
     },
     "execution_count": 24,
     "metadata": {},
     "output_type": "execute_result"
    }
   ],
   "source": [
    "b=oneunit(d)"
   ]
  },
  {
   "cell_type": "code",
   "execution_count": 25,
   "metadata": {},
   "outputs": [
    {
     "data": {
      "text/plain": [
       "3 days"
      ]
     },
     "execution_count": 25,
     "metadata": {},
     "output_type": "execute_result"
    }
   ],
   "source": [
    "3*b"
   ]
  },
  {
   "cell_type": "code",
   "execution_count": 1,
   "metadata": {},
   "outputs": [
    {
     "data": {
      "text/plain": [
       "381×1 Array{Union{Missing, CategoricalString{UInt32}},2}:\n",
       " \"2017/2/2 10:53\" \n",
       " \"2017/2/2 10:53\" \n",
       " \"2017/2/2 10:21\" \n",
       " \"2017/1/31 1:50\" \n",
       " \"2017/2/2 11:08\" \n",
       " \"2014/7/31 23:05\"\n",
       " \"2013/11/28 3:27\"\n",
       " \"2014/7/31 23:06\"\n",
       " \"2014/7/31 23:07\"\n",
       " \"2017/2/2 10:21\" \n",
       " \"2014/7/31 23:09\"\n",
       " \"2014/7/31 23:10\"\n",
       " \"2014/7/31 23:10\"\n",
       " ⋮                \n",
       " \"2018/6/7 13:26\" \n",
       " \"2018/6/7 13:26\" \n",
       " \"2018/6/7 13:26\" \n",
       " \"2017/1/31 1:54\" \n",
       " \"2018/6/7 13:26\" \n",
       " \"2018/6/7 13:26\" \n",
       " \"2018/6/7 13:26\" \n",
       " \"2017/1/31 1:55\" \n",
       " \"2018/6/7 13:26\" \n",
       " \"2018/6/7 13:26\" \n",
       " \"2018/6/7 13:27\" \n",
       " \"2018/6/7 13:27\" "
      ]
     },
     "execution_count": 1,
     "metadata": {},
     "output_type": "execute_result"
    }
   ],
   "source": [
    "using CSV\n",
    "fname=raw\"E:tdata.csv\"\n",
    "dt = CSV.read(fname)\n",
    "A=convert(Array,dt)"
   ]
  },
  {
   "cell_type": "code",
   "execution_count": 18,
   "metadata": {},
   "outputs": [
    {
     "data": {
      "text/plain": [
       "str2date (generic function with 2 methods)"
      ]
     },
     "execution_count": 18,
     "metadata": {},
     "output_type": "execute_result"
    }
   ],
   "source": [
    "using Dates\n",
    "function str2date(simstr,format::String)\n",
    "str=convert(String,simstr)\n",
    "tm=Dates.DateTime(str, format)\n",
    "return Date(tm)\n",
    "end"
   ]
  },
  {
   "cell_type": "code",
   "execution_count": 19,
   "metadata": {},
   "outputs": [
    {
     "data": {
      "text/plain": [
       "2013-10-20"
      ]
     },
     "execution_count": 19,
     "metadata": {},
     "output_type": "execute_result"
    }
   ],
   "source": [
    "str2date(\"2013/10/20  11:52:00\", \"yyyy/mm/dd  HH:MM:SS\")"
   ]
  },
  {
   "cell_type": "code",
   "execution_count": 6,
   "metadata": {},
   "outputs": [
    {
     "data": {
      "text/plain": [
       "Union{Missing, CategoricalString{UInt32}}"
      ]
     },
     "execution_count": 6,
     "metadata": {},
     "output_type": "execute_result"
    }
   ],
   "source": [
    "eltype(A)"
   ]
  },
  {
   "cell_type": "code",
   "execution_count": 7,
   "metadata": {},
   "outputs": [
    {
     "data": {
      "text/plain": [
       "CategoricalArrays.CategoricalString{UInt32}"
      ]
     },
     "execution_count": 7,
     "metadata": {},
     "output_type": "execute_result"
    }
   ],
   "source": [
    "typeof(A[1])"
   ]
  },
  {
   "cell_type": "code",
   "execution_count": 8,
   "metadata": {},
   "outputs": [
    {
     "data": {
      "text/plain": [
       "CategoricalArrays.CategoricalString{UInt32} \"2017/2/2 10:53\""
      ]
     },
     "execution_count": 8,
     "metadata": {},
     "output_type": "execute_result"
    }
   ],
   "source": [
    "a=A[1]"
   ]
  },
  {
   "cell_type": "code",
   "execution_count": 16,
   "metadata": {},
   "outputs": [
    {
     "data": {
      "text/plain": [
       "\"2017/2/2 10:53\""
      ]
     },
     "execution_count": 16,
     "metadata": {},
     "output_type": "execute_result"
    }
   ],
   "source": [
    "b = convert(String,a)"
   ]
  },
  {
   "cell_type": "code",
   "execution_count": 21,
   "metadata": {},
   "outputs": [
    {
     "data": {
      "text/plain": [
       "2017-02-02"
      ]
     },
     "execution_count": 21,
     "metadata": {},
     "output_type": "execute_result"
    }
   ],
   "source": [
    "str2date(A[1],\"yyyy/mm/dd HH:MM\")"
   ]
  },
  {
   "cell_type": "code",
   "execution_count": 22,
   "metadata": {},
   "outputs": [
    {
     "data": {
      "text/plain": [
       "381×1 Array{Date,2}:\n",
       " 2017-02-02\n",
       " 2017-02-02\n",
       " 2017-02-02\n",
       " 2017-01-31\n",
       " 2017-02-02\n",
       " 2014-07-31\n",
       " 2013-11-28\n",
       " 2014-07-31\n",
       " 2014-07-31\n",
       " 2017-02-02\n",
       " 2014-07-31\n",
       " 2014-07-31\n",
       " 2014-07-31\n",
       " ⋮         \n",
       " 2018-06-07\n",
       " 2018-06-07\n",
       " 2018-06-07\n",
       " 2017-01-31\n",
       " 2018-06-07\n",
       " 2018-06-07\n",
       " 2018-06-07\n",
       " 2017-01-31\n",
       " 2018-06-07\n",
       " 2018-06-07\n",
       " 2018-06-07\n",
       " 2018-06-07"
      ]
     },
     "execution_count": 22,
     "metadata": {},
     "output_type": "execute_result"
    }
   ],
   "source": [
    "B=str2date.(A,\"yyyy/mm/dd HH:MM\")"
   ]
  },
  {
   "cell_type": "code",
   "execution_count": 27,
   "metadata": {},
   "outputs": [
    {
     "data": {
      "text/plain": [
       "1-element Array{Date,1}:\n",
       " 0011-09-01"
      ]
     },
     "execution_count": 27,
     "metadata": {},
     "output_type": "execute_result"
    }
   ],
   "source": [
    "C=Array{eltype(B)}(undef,1)"
   ]
  },
  {
   "cell_type": "code",
   "execution_count": 28,
   "metadata": {},
   "outputs": [
    {
     "data": {
      "text/plain": [
       "2017-02-02"
      ]
     },
     "execution_count": 28,
     "metadata": {},
     "output_type": "execute_result"
    }
   ],
   "source": [
    "C[1]=B[1]"
   ]
  },
  {
   "cell_type": "code",
   "execution_count": 43,
   "metadata": {},
   "outputs": [
    {
     "data": {
      "text/plain": [
       "14-element Array{Date,1}:\n",
       " 2017-02-02\n",
       " 2017-02-16\n",
       " 2017-03-18\n",
       " 2017-05-16\n",
       " 2017-06-07\n",
       " 2017-09-29\n",
       " 2017-10-03\n",
       " 2017-10-26\n",
       " 2017-10-28\n",
       " 2017-11-21\n",
       " 2017-12-24\n",
       " 2018-02-21\n",
       " 2018-05-03\n",
       " 2018-06-07"
      ]
     },
     "execution_count": 43,
     "metadata": {},
     "output_type": "execute_result"
    }
   ],
   "source": [
    "C=Array{eltype(B)}(undef,1);\n",
    "C[1]=B[1];\n",
    "for i=2:length(B)\n",
    "    if B[i]>C[end]\n",
    "    global C=[C;B[i]];\n",
    "    end\n",
    "end\n",
    "C"
   ]
  },
  {
   "cell_type": "code",
   "execution_count": 37,
   "metadata": {},
   "outputs": [
    {
     "data": {
      "text/plain": [
       "51-element Array{Date,1}:\n",
       " 2017-02-02\n",
       " 2017-02-02\n",
       " 2014-07-31\n",
       " 2017-02-02\n",
       " 2017-01-31\n",
       " 2014-07-31\n",
       " 2014-08-12\n",
       " 2014-09-23\n",
       " 2014-11-22\n",
       " 2015-01-29\n",
       " 2015-02-26\n",
       " 2017-01-31\n",
       " 2016-03-30\n",
       " ⋮         \n",
       " 2017-06-07\n",
       " 2017-09-29\n",
       " 2017-10-03\n",
       " 2017-10-26\n",
       " 2017-10-28\n",
       " 2017-11-21\n",
       " 2017-12-24\n",
       " 2018-02-21\n",
       " 2018-05-03\n",
       " 2018-06-07\n",
       " 2018-06-07\n",
       " 2018-06-07"
      ]
     },
     "execution_count": 37,
     "metadata": {},
     "output_type": "execute_result"
    }
   ],
   "source": []
  },
  {
   "cell_type": "code",
   "execution_count": 38,
   "metadata": {},
   "outputs": [
    {
     "data": {
      "text/plain": [
       "false"
      ]
     },
     "execution_count": 38,
     "metadata": {},
     "output_type": "execute_result"
    }
   ],
   "source": [
    " B[1]>B[3]"
   ]
  },
  {
   "cell_type": "code",
   "execution_count": 39,
   "metadata": {},
   "outputs": [
    {
     "data": {
      "text/plain": [
       "false"
      ]
     },
     "execution_count": 39,
     "metadata": {},
     "output_type": "execute_result"
    }
   ],
   "source": [
    " B[1]>B[2]"
   ]
  },
  {
   "cell_type": "code",
   "execution_count": 40,
   "metadata": {},
   "outputs": [
    {
     "data": {
      "text/plain": [
       "true"
      ]
     },
     "execution_count": 40,
     "metadata": {},
     "output_type": "execute_result"
    }
   ],
   "source": [
    "B[1]==B[2]"
   ]
  },
  {
   "cell_type": "code",
   "execution_count": 45,
   "metadata": {},
   "outputs": [
    {
     "data": {
      "text/plain": [
       "delunorder (generic function with 1 method)"
      ]
     },
     "execution_count": 45,
     "metadata": {},
     "output_type": "execute_result"
    }
   ],
   "source": [
    "function delunorder(B::Array)\n",
    "C=Array{eltype(B)}(undef,1);\n",
    "C[1]=B[1];\n",
    "for i=2:length(B)\n",
    "    if B[i]>C[end]\n",
    "       C=[C;B[i]];\n",
    "    end\n",
    "end\n",
    "    return C\n",
    "end"
   ]
  },
  {
   "cell_type": "code",
   "execution_count": 46,
   "metadata": {},
   "outputs": [
    {
     "data": {
      "text/plain": [
       "14-element Array{Date,1}:\n",
       " 2017-02-02\n",
       " 2017-02-16\n",
       " 2017-03-18\n",
       " 2017-05-16\n",
       " 2017-06-07\n",
       " 2017-09-29\n",
       " 2017-10-03\n",
       " 2017-10-26\n",
       " 2017-10-28\n",
       " 2017-11-21\n",
       " 2017-12-24\n",
       " 2018-02-21\n",
       " 2018-05-03\n",
       " 2018-06-07"
      ]
     },
     "execution_count": 46,
     "metadata": {},
     "output_type": "execute_result"
    }
   ],
   "source": [
    "C2=delunorder(B)"
   ]
  },
  {
   "cell_type": "code",
   "execution_count": 47,
   "metadata": {},
   "outputs": [
    {
     "data": {
      "text/plain": [
       "13-element Array{Day,1}:\n",
       " 14 days \n",
       " 30 days \n",
       " 59 days \n",
       " 22 days \n",
       " 114 days\n",
       " 4 days  \n",
       " 23 days \n",
       " 2 days  \n",
       " 24 days \n",
       " 33 days \n",
       " 59 days \n",
       " 71 days \n",
       " 35 days "
      ]
     },
     "execution_count": 47,
     "metadata": {},
     "output_type": "execute_result"
    }
   ],
   "source": [
    "D1=C2[1:end-1]\n",
    "D2=C2[2:end]\n",
    "D=D2.-D1"
   ]
  },
  {
   "cell_type": "code",
   "execution_count": 48,
   "metadata": {},
   "outputs": [
    {
     "data": {
      "text/plain": [
       "2018-09-02"
      ]
     },
     "execution_count": 48,
     "metadata": {},
     "output_type": "execute_result"
    }
   ],
   "source": [
    "T= Dates.today()"
   ]
  },
  {
   "cell_type": "code",
   "execution_count": 49,
   "metadata": {},
   "outputs": [
    {
     "data": {
      "text/plain": [
       "87 days"
      ]
     },
     "execution_count": 49,
     "metadata": {},
     "output_type": "execute_result"
    }
   ],
   "source": [
    "T-B[end]"
   ]
  },
  {
   "cell_type": "markdown",
   "metadata": {},
   "source": [
    "We can see in history,114 days is the longgest time of a updates,now 87 days already,maybe a update coming soon."
   ]
  }
 ],
 "metadata": {
  "kernelspec": {
   "display_name": "Julia 1.0.0",
   "language": "julia",
   "name": "julia-1.0"
  },
  "language_info": {
   "file_extension": ".jl",
   "mimetype": "application/julia",
   "name": "julia",
   "version": "1.0.0"
  }
 },
 "nbformat": 4,
 "nbformat_minor": 2
}
