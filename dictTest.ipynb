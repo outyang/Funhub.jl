{
 "cells": [
  {
   "cell_type": "code",
   "execution_count": 38,
   "metadata": {},
   "outputs": [
    {
     "data": {
      "text/plain": [
       "1000×2 Array{Any,2}:\n",
       " \"AT&T\"    3\n",
       " \"B超\"      3\n",
       " \"c#\"      3\n",
       " \"C#\"      3\n",
       " \"c++\"     3\n",
       " \"C++\"     3\n",
       " \"T恤\"      4\n",
       " \"A座\"      3\n",
       " \"A股\"      3\n",
       " \"A型\"      3\n",
       " \"A轮\"      3\n",
       " \"AA制\"     3\n",
       " \"AB型\"     3\n",
       " ⋮          \n",
       " \"一划\"      3\n",
       " \"一列\"    192\n",
       " \"一则\"    851\n",
       " \"一则以喜\"    3\n",
       " \"一则以忧\"    3\n",
       " \"一则以惧\"    3\n",
       " \"一删而空\"    3\n",
       " \"一别\"      3\n",
       " \"一别多年\"    3\n",
       " \"一券\"      3\n",
       " \"一刹\"      3\n",
       " \"一刹那\"   212"
      ]
     },
     "execution_count": 38,
     "metadata": {},
     "output_type": "execute_result"
    }
   ],
   "source": [
    "using Random \n",
    "using CSV\n",
    "fname=raw\"D:\\新建文件夹\\T.csv\"\n",
    "dt = CSV.read(fname)\n",
    "A=convert(Array,dt)"
   ]
  },
  {
   "cell_type": "code",
   "execution_count": 69,
   "metadata": {},
   "outputs": [
    {
     "data": {
      "text/plain": [
       "1000×2 Array{Any,2}:\n",
       " \"AT&T\"    3\n",
       " \"B超\"      3\n",
       " \"c#\"      3\n",
       " \"C#\"      3\n",
       " \"c++\"     3\n",
       " \"C++\"     3\n",
       " \"T恤\"      4\n",
       " \"A座\"      3\n",
       " \"A股\"      3\n",
       " \"A型\"      3\n",
       " \"A轮\"      3\n",
       " \"AA制\"     3\n",
       " \"AB型\"     3\n",
       " ⋮          \n",
       " \"一划\"      3\n",
       " \"一列\"    192\n",
       " \"一则\"    851\n",
       " \"一则以喜\"    3\n",
       " \"一则以忧\"    3\n",
       " \"一则以惧\"    3\n",
       " \"一删而空\"    3\n",
       " \"一别\"      3\n",
       " \"一别多年\"    3\n",
       " \"一券\"      3\n",
       " \"一刹\"      3\n",
       " \"一刹那\"   212"
      ]
     },
     "execution_count": 69,
     "metadata": {},
     "output_type": "execute_result"
    }
   ],
   "source": [
    "randperm(3)\n",
    "B=A[1:1000,:]\n"
   ]
  },
  {
   "cell_type": "code",
   "execution_count": 33,
   "metadata": {},
   "outputs": [
    {
     "data": {
      "text/plain": [
       "Frame2Dict (generic function with 1 method)"
      ]
     },
     "execution_count": 33,
     "metadata": {},
     "output_type": "execute_result"
    }
   ],
   "source": [
    "using DataFrames\n",
    "function Array2Dict(A::Array)\n",
    "m,n=size(A);\n",
    "B=Array{Any}(undef,m);\n",
    "if n>2\n",
    "    error(\"only two width is spport\")\n",
    "elseif n==2\n",
    "    for i=1:m\n",
    "        B[i]=(A[i,1],A[i,2]);\n",
    "    end\n",
    "end\n",
    "return Dict(B)\n",
    "end\n",
    "\n",
    "function Frame2Array(dt::DataFrames.DataFrame)\n",
    "return convert(Array,dt)\n",
    "end\n",
    "\n",
    "function Frame2Dict(dt::DataFrames.DataFrame)\n",
    "A=convert(Array,dt);\n",
    "m,n=size(A);\n",
    "B=Array{Any}(undef,m);\n",
    "for i=1:m\n",
    "   B[i]=(A[i,1],A[i,2]);\n",
    "end\n",
    "return Dict(B)\n",
    "end"
   ]
  },
  {
   "cell_type": "code",
   "execution_count": 70,
   "metadata": {},
   "outputs": [
    {
     "data": {
      "text/plain": [
       "Dict{String,Int64} with 999 entries:\n",
       "  \"一九五八…    => 12\n",
       "  \"一万多年…    => 4\n",
       "  \"一位数\"     => 3\n",
       "  \"一九三二…    => 3\n",
       "  \"一个五百…    => 2\n",
       "  \"一万六千…    => 2\n",
       "  \"一九四二…    => 25\n",
       "  \"一九七七…    => 4\n",
       "  \"一九一五…    => 2\n",
       "  \"一两百个…    => 2\n",
       "  \"一举三反…    => 3\n",
       "  \"一两家\"     => 13\n",
       "  \"一准儿\"     => 2\n",
       "  \"一个拖拉…    => 2\n",
       "  \"一任\"      => 188\n",
       "  \"一兵一卒…    => 3\n",
       "  \"一二亩\"     => 2\n",
       "  \"一些纸\"     => 2\n",
       "  \"一击必杀…    => 3\n",
       "  \"一个六七…    => 5\n",
       "  \"一体\"      => 1526\n",
       "  \"一分一毫…    => 11\n",
       "  \"一代\"      => 2101\n",
       "  \"一几\"      => 10\n",
       "  \"一划\"      => 3\n",
       "  ⋮         => ⋮"
      ]
     },
     "execution_count": 70,
     "metadata": {},
     "output_type": "execute_result"
    }
   ],
   "source": [
    "C=Array2Dict(B)"
   ]
  },
  {
   "cell_type": "code",
   "execution_count": 41,
   "metadata": {},
   "outputs": [],
   "source": [
    "Ind=randperm(100);"
   ]
  },
  {
   "cell_type": "code",
   "execution_count": 48,
   "metadata": {},
   "outputs": [
    {
     "data": {
      "text/plain": [
       "findfirst (generic function with 1 method)"
      ]
     },
     "execution_count": 48,
     "metadata": {},
     "output_type": "execute_result"
    }
   ],
   "source": [
    "function findfirst(A::Array,n::T) where T\n",
    "    alen=length(A)\n",
    "    Index=0;\n",
    "    for i=1:alen\n",
    "        if A[i]==n\n",
    "            Index=i;\n",
    "            break\n",
    "        end\n",
    "    end\n",
    "    if Index==0;\n",
    "       Index=nothing;\n",
    "    end\n",
    "    return Index\n",
    "end"
   ]
  },
  {
   "cell_type": "code",
   "execution_count": 46,
   "metadata": {},
   "outputs": [
    {
     "data": {
      "text/plain": [
       "75"
      ]
     },
     "execution_count": 46,
     "metadata": {},
     "output_type": "execute_result"
    }
   ],
   "source": [
    "ans=findfirst(B,\"一一二\")"
   ]
  },
  {
   "cell_type": "code",
   "execution_count": 56,
   "metadata": {},
   "outputs": [],
   "source": [
    "an=findfirst(B,\"一二\")"
   ]
  },
  {
   "cell_type": "code",
   "execution_count": 57,
   "metadata": {},
   "outputs": [
    {
     "data": {
      "text/plain": [
       "true"
      ]
     },
     "execution_count": 57,
     "metadata": {},
     "output_type": "execute_result"
    }
   ],
   "source": [
    "an==nothing"
   ]
  },
  {
   "cell_type": "code",
   "execution_count": 58,
   "metadata": {},
   "outputs": [
    {
     "data": {
      "text/plain": [
       "Arraytest (generic function with 1 method)"
      ]
     },
     "execution_count": 58,
     "metadata": {},
     "output_type": "execute_result"
    }
   ],
   "source": [
    "function Arraytest(A::Array)\n",
    "    M=A[:,1]\n",
    "    m,n=size(A)\n",
    "    Ind=randperm(m)\n",
    "    for i=1:m\n",
    "        k=Ind[i]\n",
    "        findfirst(M,M[k])\n",
    "    end\n",
    "end:Array)\n",
    "    M=A[:,1]\n",
    "    m,n=size(A)\n",
    "    Ind=randperm(m)\n",
    "    for i=1:m\n",
    "        k=Ind[i]\n",
    "        findfirst(M,M[k])\n",
    "    end\n",
    "end"
   ]
  },
  {
   "cell_type": "code",
   "execution_count": 82,
   "metadata": {},
   "outputs": [
    {
     "name": "stdout",
     "output_type": "stream",
     "text": [
      "  0.008632 seconds (495 allocations: 23.672 KiB)\n"
     ]
    }
   ],
   "source": [
    "@time Arraytest(B)"
   ]
  },
  {
   "cell_type": "code",
   "execution_count": 79,
   "metadata": {},
   "outputs": [
    {
     "data": {
      "text/plain": [
       "Dicttest (generic function with 1 method)"
      ]
     },
     "execution_count": 79,
     "metadata": {},
     "output_type": "execute_result"
    }
   ],
   "source": [
    "function Dicttest(D::Dict,B::Array)\n",
    "    M=B[:,1]\n",
    "    m,n=size(B)\n",
    "    Ind=randperm(m)\n",
    "    for i=1:m\n",
    "        k=Ind[i] \n",
    "        D[M[k]]\n",
    "    end\n",
    "end"
   ]
  },
  {
   "cell_type": "code",
   "execution_count": 81,
   "metadata": {},
   "outputs": [
    {
     "name": "stdout",
     "output_type": "stream",
     "text": [
      "  0.000379 seconds (39 allocations: 16.547 KiB)\n"
     ]
    }
   ],
   "source": [
    "@time Dicttest(C,B)"
   ]
  },
  {
   "cell_type": "code",
   "execution_count": null,
   "metadata": {},
   "outputs": [],
   "source": []
  }
 ],
 "metadata": {
  "kernelspec": {
   "display_name": "Julia 1.0.0",
   "language": "julia",
   "name": "julia-1.0"
  },
  "language_info": {
   "file_extension": ".jl",
   "mimetype": "application/julia",
   "name": "julia",
   "version": "1.0.0"
  }
 },
 "nbformat": 4,
 "nbformat_minor": 2
}
